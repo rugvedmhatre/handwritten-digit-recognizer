{
 "cells": [
  {
   "cell_type": "markdown",
   "id": "7eae6abe",
   "metadata": {},
   "source": [
    "# Neural Network from Scratch"
   ]
  },
  {
   "cell_type": "markdown",
   "id": "a2962d22",
   "metadata": {},
   "source": [
    "Importing NumPy, Pandas and Matplotlib"
   ]
  },
  {
   "cell_type": "code",
   "execution_count": 1,
   "id": "6a649950",
   "metadata": {},
   "outputs": [],
   "source": [
    "import numpy as np\n",
    "import pandas as pd\n",
    "from matplotlib import pyplot as plt"
   ]
  },
  {
   "cell_type": "markdown",
   "id": "2db3e9b7",
   "metadata": {},
   "source": [
    "Reading the dataset"
   ]
  },
  {
   "cell_type": "code",
   "execution_count": 2,
   "id": "43cb1529",
   "metadata": {},
   "outputs": [
    {
     "name": "stdout",
     "output_type": "stream",
     "text": [
      "Data array shape : 42000 x 785\n"
     ]
    }
   ],
   "source": [
    "data = pd.read_csv('../dataset/train.csv')\n",
    "data = np.array(data)\n",
    "m, n = data.shape\n",
    "print(\"Data array shape : \" + str(m) + \" x \" + str(n))"
   ]
  },
  {
   "cell_type": "markdown",
   "id": "bc9b8332",
   "metadata": {},
   "source": [
    "Shuffling the dataset, and splitting it into dev and test sets"
   ]
  },
  {
   "cell_type": "code",
   "execution_count": 3,
   "id": "49dfbad7",
   "metadata": {},
   "outputs": [
    {
     "name": "stdout",
     "output_type": "stream",
     "text": [
      "X_dev shape   : (784, 1000)\n",
      "Y_dev shape   : (1000,)\n",
      "X_train shape : (784, 41000)\n",
      "Y_train shape : (41000,)\n"
     ]
    }
   ],
   "source": [
    "np.random.shuffle(data)\n",
    "\n",
    "data_dev = data[0:1000].T\n",
    "Y_dev = data_dev[0]\n",
    "X_dev = data_dev[1:n]\n",
    "X_dev = X_dev / 255.\n",
    "print(\"X_dev shape   : \" + str(X_dev.shape))\n",
    "print(\"Y_dev shape   : \" + str(Y_dev.shape))\n",
    "\n",
    "data_train = data[1000:m].T\n",
    "Y_train = data_train[0]\n",
    "X_train = data_train[1:n]\n",
    "X_train = X_train / 255.\n",
    "_,m_train = X_train.shape\n",
    "print(\"X_train shape : \" + str(X_train.shape))\n",
    "print(\"Y_train shape : \" + str(Y_train.shape))"
   ]
  },
  {
   "cell_type": "markdown",
   "id": "41127dca",
   "metadata": {},
   "source": [
    "Defining functions for the neural network"
   ]
  },
  {
   "cell_type": "code",
   "execution_count": 4,
   "id": "e2b3749e",
   "metadata": {},
   "outputs": [],
   "source": [
    "def init_parameters():\n",
    "    W1 = np.random.rand(10, 784) - 0.5\n",
    "    b1 = np.random.rand(10, 1) - 0.5\n",
    "    W2 = np.random.rand(10, 10) - 0.5\n",
    "    b2 = np.random.rand(10, 1) - 0.5\n",
    "    return W1, b1, W2, b2\n",
    "\n",
    "def relu(Z):\n",
    "    return np.maximum(Z, 0)\n",
    "\n",
    "def softmax(Z):\n",
    "    return np.exp(Z) / sum(np.exp(Z))\n",
    "\n",
    "def forward_propagation(W1, b1, W2, b2, X):\n",
    "    Z1 = W1.dot(X) + b1\n",
    "    A1 = relu(Z1)\n",
    "    Z2 = W2.dot(A1) + b2\n",
    "    A2 = softmax(Z2)\n",
    "    return Z1, A1, Z2, A2\n",
    "\n",
    "def one_hot(Y):\n",
    "    one_hot_y = np.zeros((Y.size, Y.max() + 1))\n",
    "    one_hot_y[np.arange(Y.size), Y] = 1\n",
    "    one_hot_y = one_hot_y.T\n",
    "    return one_hot_y\n",
    "\n",
    "def relu_derivative(Z):\n",
    "    return Z > 0\n",
    "\n",
    "def back_propagation(Z1, A1, Z2, A2, W1, W2, X, Y):\n",
    "    one_hot_y = one_hot(Y)\n",
    "    dZ2 = A2 - one_hot_y\n",
    "    dW2 = 1 / m * dZ2.dot(A1.T)\n",
    "    db2 = 1 / m * np.sum(dZ2)\n",
    "    dZ1 = W2.T.dot(dZ2) * relu_derivative(Z1)\n",
    "    dW1 = 1 / m * dZ1.dot(X.T)\n",
    "    db1 = 1 / m * np.sum(dZ1)\n",
    "    return dW1, db1, dW2, db2\n",
    "    \n",
    "def update_parameters(W1, b1, W2, b2, dW1, db1, dW2, db2, alpha):\n",
    "    W1 = W1 - alpha * dW1\n",
    "    b1 = b1 - alpha * db1\n",
    "    W2 = W2 - alpha * dW2\n",
    "    b2 = b2 - alpha * db2\n",
    "    return W1, b1, W2, b2\n",
    "\n",
    "def get_predictions(A2):\n",
    "    return np.argmax(A2, 0)\n",
    "\n",
    "def get_accuracy(predictions, Y):\n",
    "    return np.sum(predictions == Y) / Y.size\n",
    "\n",
    "def gradient_descent(X, Y, iterations, alpha):\n",
    "    W1, b1, W2, b2 = init_parameters() \n",
    "    for i in range(iterations):\n",
    "        Z1, A1, Z2, A2 = forward_propagation(W1, b1, W2, b2, X)\n",
    "        dW1, db1, dW2, db2 = back_propagation(Z1, A1, Z2, A2, W1, W2, X, Y)\n",
    "        W1, b1, W2, b2 = update_parameters(W1, b1, W2, b2, dW1, db1, dW2, db2, alpha)\n",
    "        predictions = get_predictions(A2)\n",
    "        accuracy = get_accuracy(predictions, Y)\n",
    "        accuracy_plt.append(accuracy)\n",
    "        if i % 10 == 0:\n",
    "            print(\"Iteration : \", i)\n",
    "            print(\"Accuracy  : \", accuracy)\n",
    "    return W1, b1, W2, b2"
   ]
  },
  {
   "cell_type": "markdown",
   "id": "6d3ffaae",
   "metadata": {},
   "source": [
    "Setting the hyperparameters : learning rate (alpha) and iteration count"
   ]
  },
  {
   "cell_type": "code",
   "execution_count": 5,
   "id": "6d2b065f",
   "metadata": {},
   "outputs": [],
   "source": [
    "alpha = 0.2\n",
    "iterations = 500\n",
    "accuracy_plt = []"
   ]
  },
  {
   "cell_type": "markdown",
   "id": "4130fe68",
   "metadata": {},
   "source": [
    "Running the machine learning model on training data..."
   ]
  },
  {
   "cell_type": "code",
   "execution_count": 6,
   "id": "4f361584",
   "metadata": {},
   "outputs": [
    {
     "name": "stdout",
     "output_type": "stream",
     "text": [
      "Running gradient descent...\n",
      "Alpha      :  0.2\n",
      "Iterations :  500\n",
      "\n",
      "Iteration :  0\n",
      "Accuracy  :  0.11360975609756098\n",
      "Iteration :  10\n",
      "Accuracy  :  0.30360975609756097\n",
      "Iteration :  20\n",
      "Accuracy  :  0.4385609756097561\n",
      "Iteration :  30\n",
      "Accuracy  :  0.539\n",
      "Iteration :  40\n",
      "Accuracy  :  0.6029268292682927\n",
      "Iteration :  50\n",
      "Accuracy  :  0.6496829268292683\n",
      "Iteration :  60\n",
      "Accuracy  :  0.686439024390244\n",
      "Iteration :  70\n",
      "Accuracy  :  0.7173414634146341\n",
      "Iteration :  80\n",
      "Accuracy  :  0.741\n",
      "Iteration :  90\n",
      "Accuracy  :  0.7609268292682927\n",
      "Iteration :  100\n",
      "Accuracy  :  0.777\n",
      "Iteration :  110\n",
      "Accuracy  :  0.788609756097561\n",
      "Iteration :  120\n",
      "Accuracy  :  0.777219512195122\n",
      "Iteration :  130\n",
      "Accuracy  :  0.8002439024390244\n",
      "Iteration :  140\n",
      "Accuracy  :  0.8166585365853658\n",
      "Iteration :  150\n",
      "Accuracy  :  0.825170731707317\n",
      "Iteration :  160\n",
      "Accuracy  :  0.8315853658536585\n",
      "Iteration :  170\n",
      "Accuracy  :  0.8365609756097561\n",
      "Iteration :  180\n",
      "Accuracy  :  0.840609756097561\n",
      "Iteration :  190\n",
      "Accuracy  :  0.8446341463414634\n",
      "Iteration :  200\n",
      "Accuracy  :  0.847609756097561\n",
      "Iteration :  210\n",
      "Accuracy  :  0.8508048780487805\n",
      "Iteration :  220\n",
      "Accuracy  :  0.8537073170731707\n",
      "Iteration :  230\n",
      "Accuracy  :  0.8559024390243902\n",
      "Iteration :  240\n",
      "Accuracy  :  0.8581463414634146\n",
      "Iteration :  250\n",
      "Accuracy  :  0.8600487804878049\n",
      "Iteration :  260\n",
      "Accuracy  :  0.8620487804878049\n",
      "Iteration :  270\n",
      "Accuracy  :  0.8634878048780488\n",
      "Iteration :  280\n",
      "Accuracy  :  0.8651463414634146\n",
      "Iteration :  290\n",
      "Accuracy  :  0.8667073170731707\n",
      "Iteration :  300\n",
      "Accuracy  :  0.8679024390243902\n",
      "Iteration :  310\n",
      "Accuracy  :  0.869390243902439\n",
      "Iteration :  320\n",
      "Accuracy  :  0.870780487804878\n",
      "Iteration :  330\n",
      "Accuracy  :  0.8722926829268293\n",
      "Iteration :  340\n",
      "Accuracy  :  0.8730731707317073\n",
      "Iteration :  350\n",
      "Accuracy  :  0.8743414634146341\n",
      "Iteration :  360\n",
      "Accuracy  :  0.8752682926829268\n",
      "Iteration :  370\n",
      "Accuracy  :  0.876219512195122\n",
      "Iteration :  380\n",
      "Accuracy  :  0.8771463414634146\n",
      "Iteration :  390\n",
      "Accuracy  :  0.8778536585365854\n",
      "Iteration :  400\n",
      "Accuracy  :  0.8787560975609756\n",
      "Iteration :  410\n",
      "Accuracy  :  0.8794390243902439\n",
      "Iteration :  420\n",
      "Accuracy  :  0.8802926829268293\n",
      "Iteration :  430\n",
      "Accuracy  :  0.8808048780487805\n",
      "Iteration :  440\n",
      "Accuracy  :  0.8815365853658537\n",
      "Iteration :  450\n",
      "Accuracy  :  0.882\n",
      "Iteration :  460\n",
      "Accuracy  :  0.8827804878048781\n",
      "Iteration :  470\n",
      "Accuracy  :  0.8835853658536585\n",
      "Iteration :  480\n",
      "Accuracy  :  0.8843658536585366\n",
      "Iteration :  490\n",
      "Accuracy  :  0.8850487804878049\n"
     ]
    }
   ],
   "source": [
    "print(\"Running gradient descent...\")\n",
    "print(\"Alpha      : \", alpha)\n",
    "print(\"Iterations : \" , iterations)\n",
    "print()\n",
    "W1, b1, W2, b2 = gradient_descent(X_train, Y_train, iterations, alpha)"
   ]
  },
  {
   "cell_type": "markdown",
   "id": "f336b0e0",
   "metadata": {},
   "source": [
    "Saving the model as a NumPy Zip File"
   ]
  },
  {
   "cell_type": "code",
   "execution_count": 7,
   "id": "80068c59",
   "metadata": {},
   "outputs": [],
   "source": [
    "np.savez('model.npz', W1, b1, W2, b2)"
   ]
  },
  {
   "cell_type": "markdown",
   "id": "abc2fd3e",
   "metadata": {},
   "source": [
    "Plotting the accuracy over the number of iterations..."
   ]
  },
  {
   "cell_type": "code",
   "execution_count": 9,
   "id": "79019f26",
   "metadata": {},
   "outputs": [
    {
     "data": {
      "image/png": "[encoded data removed]",
      "text/plain": [
       "<Figure size 640x480 with 1 Axes>"
      ]
     },
     "metadata": {},
     "output_type": "display_data"
    }
   ],
   "source": [
    "plt.title(\"Model Accuracy Graph\")\n",
    "plt.xlabel(\"Iteration\")\n",
    "plt.ylabel(\"Accuracy\")\n",
    "x = list(range(len(accuracy_plt)))\n",
    "plt.plot(x, accuracy_plt)\n",
    "plt.show()"
   ]
  },
  {
   "cell_type": "markdown",
   "id": "b661d333",
   "metadata": {},
   "source": [
    "Defining functions to test examples"
   ]
  },
  {
   "cell_type": "code",
   "execution_count": 12,
   "id": "39178988",
   "metadata": {},
   "outputs": [],
   "source": [
    "def make_predictions(X, W1, b1, W2, b2):\n",
    "    _, _, _, A2 = forward_propagation(W1, b1, W2, b2, X)\n",
    "    predictions = get_predictions(A2)\n",
    "    return predictions\n",
    "\n",
    "def check_train_prediction(index, W1, b1, W2, b2):\n",
    "    current_image = X_train[:, index, None]\n",
    "    prediction = make_predictions(X_train[:, index, None], W1, b1, W2, b2)\n",
    "    label = Y_train[index]\n",
    "    print(\"Prediction: \", prediction)\n",
    "    print(\"Label: \", label)\n",
    "    \n",
    "    current_image = current_image.reshape((28, 28)) * 255\n",
    "    plt.gray()\n",
    "    plt.imshow(current_image, interpolation='nearest')\n",
    "    plt.show()"
   ]
  },
  {
   "cell_type": "markdown",
   "id": "75b2d3bd",
   "metadata": {},
   "source": [
    "Testing examples"
   ]
  },
  {
   "cell_type": "code",
   "execution_count": 13,
   "id": "61552f16",
   "metadata": {},
   "outputs": [
    {
     "name": "stdout",
     "output_type": "stream",
     "text": [
      "Prediction:  [1]\n",
      "Label:  6\n"
     ]
    },
    {
     "data": {
      "image/png": "[encoded data removed]",
      "text/plain": [
       "<Figure size 640x480 with 1 Axes>"
      ]
     },
     "metadata": {},
     "output_type": "display_data"
    },
    {
     "name": "stdout",
     "output_type": "stream",
     "text": [
      "Prediction:  [4]\n",
      "Label:  9\n"
     ]
    },
    {
     "data": {
      "image/png": "[encoded data removed]",
      "text/plain": [
       "<Figure size 640x480 with 1 Axes>"
      ]
     },
     "metadata": {},
     "output_type": "display_data"
    },
    {
     "name": "stdout",
     "output_type": "stream",
     "text": [
      "Prediction:  [2]\n",
      "Label:  2\n"
     ]
    },
    {
     "data": {
      "image/png": "[encoded data removed]",
      "text/plain": [
       "<Figure size 640x480 with 1 Axes>"
      ]
     },
     "metadata": {},
     "output_type": "display_data"
    },
    {
     "name": "stdout",
     "output_type": "stream",
     "text": [
      "Prediction:  [3]\n",
      "Label:  3\n"
     ]
    },
    {
     "data": {
      "image/png": "[encoded data removed]",
      "text/plain": [
       "<Figure size 640x480 with 1 Axes>"
      ]
     },
     "metadata": {},
     "output_type": "display_data"
    }
   ],
   "source": [
    "check_train_prediction(0, W1, b1, W2, b2)\n",
    "check_train_prediction(1, W1, b1, W2, b2)\n",
    "check_train_prediction(2, W1, b1, W2, b2)\n",
    "check_train_prediction(3, W1, b1, W2, b2)"
   ]
  },
  {
   "cell_type": "markdown",
   "id": "dddd97e0",
   "metadata": {},
   "source": [
    "Testing the accuracy on dev data..."
   ]
  },
  {
   "cell_type": "code",
   "execution_count": 15,
   "id": "c0a6b26d",
   "metadata": {},
   "outputs": [
    {
     "name": "stdout",
     "output_type": "stream",
     "text": [
      "Dev Accuracy : 88.2%\n"
     ]
    }
   ],
   "source": [
    "dev_predictions = make_predictions(X_dev, W1, b1, W2, b2)\n",
    "dev_accuracy = get_accuracy(dev_predictions, Y_dev)\n",
    "print(\"Dev Accuracy : \" + str(dev_accuracy*100) + \"%\")"
   ]
  },
  {
   "cell_type": "markdown",
   "id": "e87cfa99",
   "metadata": {},
   "source": [
    "Testing on test.csv"
   ]
  },
  {
   "cell_type": "code",
   "execution_count": 19,
   "id": "96eac3ba",
   "metadata": {},
   "outputs": [
    {
     "name": "stdout",
     "output_type": "stream",
     "text": [
      "Test Data array shape : 28000 x 784\n",
      "X_test shape   : (784, 28000)\n",
      "[2 0 9 ... 3 9 2]\n"
     ]
    }
   ],
   "source": [
    "test_data = pd.read_csv('../dataset/test.csv')\n",
    "test_data = np.array(test_data)\n",
    "m_test, n_test = test_data.shape\n",
    "print(\"Test Data array shape : \" + str(m_test) + \" x \" + str(n_test))\n",
    "\n",
    "X_test = test_data.T\n",
    "X_test = X_test / 255.\n",
    "print(\"X_test shape   : \" + str(X_test.shape))\n",
    "\n",
    "test_predictions = make_predictions(X_test, W1, b1, W2, b2)\n",
    "print(test_predictions)"
   ]
  },
  {
   "cell_type": "markdown",
   "id": "262b4763",
   "metadata": {},
   "source": [
    "Checking test.csv predictions..."
   ]
  },
  {
   "cell_type": "code",
   "execution_count": 20,
   "id": "7b374e29",
   "metadata": {},
   "outputs": [],
   "source": [
    "def check_test_prediction(index, W1, b1, W2, b2):\n",
    "    current_image = X_test[:, index, None]\n",
    "    prediction = make_predictions(X_test[:, index, None], W1, b1, W2, b2)\n",
    "    print(\"Prediction: \", prediction)\n",
    "    \n",
    "    current_image = current_image.reshape((28, 28)) * 255\n",
    "    plt.gray()\n",
    "    plt.imshow(current_image, interpolation='nearest')\n",
    "    plt.show()"
   ]
  },
  {
   "cell_type": "code",
   "execution_count": 22,
   "id": "7fbd3563",
   "metadata": {},
   "outputs": [
    {
     "name": "stdout",
     "output_type": "stream",
     "text": [
      "Prediction:  [2]\n"
     ]
    },
    {
     "data": {
      "image/png": "[encoded data removed]",
      "text/plain": [
       "<Figure size 640x480 with 1 Axes>"
      ]
     },
     "metadata": {},
     "output_type": "display_data"
    },
    {
     "name": "stdout",
     "output_type": "stream",
     "text": [
      "Prediction:  [9]\n"
     ]
    },
    {
     "data": {
      "image/png": "[encoded data removed]",
      "text/plain": [
       "<Figure size 640x480 with 1 Axes>"
      ]
     },
     "metadata": {},
     "output_type": "display_data"
    },
    {
     "name": "stdout",
     "output_type": "stream",
     "text": [
      "Prediction:  [0]\n"
     ]
    },
    {
     "data": {
      "image/png": "[encoded data removed]",
      "text/plain": [
       "<Figure size 640x480 with 1 Axes>"
      ]
     },
     "metadata": {},
     "output_type": "display_data"
    },
    {
     "name": "stdout",
     "output_type": "stream",
     "text": [
      "Prediction:  [3]\n"
     ]
    },
    {
     "data": {
      "image/png": "[encoded data removed]",
      "text/plain": [
       "<Figure size 640x480 with 1 Axes>"
      ]
     },
     "metadata": {},
     "output_type": "display_data"
    }
   ],
   "source": [
    "check_test_prediction(0, W1, b1, W2, b2)\n",
    "check_test_prediction(2, W1, b1, W2, b2)\n",
    "check_test_prediction(6, W1, b1, W2, b2)\n",
    "check_test_prediction(9, W1, b1, W2, b2)"
   ]
  },
  {
   "cell_type": "code",
   "execution_count": null,
   "id": "63de6d68",
   "metadata": {},
   "outputs": [],
   "source": []
  }
 ],
 "metadata": {
  "kernelspec": {
   "display_name": "Python 3 (ipykernel)",
   "language": "python",
   "name": "python3"
  },
  "language_info": {
   "codemirror_mode": {
    "name": "ipython",
    "version": 3
   },
   "file_extension": ".py",
   "mimetype": "text/x-python",
   "name": "python",
   "nbconvert_exporter": "python",
   "pygments_lexer": "ipython3",
   "version": "3.9.6"
  }
 },
 "nbformat": 4,
 "nbformat_minor": 5
}
