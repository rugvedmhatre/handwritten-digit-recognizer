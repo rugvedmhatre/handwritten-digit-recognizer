{
  "nbformat": 4,
  "nbformat_minor": 0,
  "metadata": {
    "colab": {
      "provenance": []
    },
    "kernelspec": {
      "name": "python3",
      "display_name": "Python 3"
    }
  },
  "cells": [
    {
      "cell_type": "code",
      "metadata": {
        "id": "kjvPSnDA4J_w",
        "colab": {
          "base_uri": "https://localhost:8080/",
          "height": 430
        },
        "outputId": "a93f86fb-25e9-4780-80a6-7ccafe17955b"
      },
      "source": [
        "import tensorflow as tf\n",
        "import matplotlib.pyplot as plt\n",
        "\n",
        "(x_train, y_train), (x_test, y_test) = tf.keras.datasets.mnist.load_data(path=\"mnist.npz\")\n",
        "\n",
        "plt.imshow(x_train[0],cmap='gray');"
      ],
      "execution_count": 1,
      "outputs": [
        {
          "output_type": "display_data",
          "data": {
            "text/plain": [
              "<Figure size 640x480 with 1 Axes>"
            ],
            "image/png": "[encoded data removed]"
          },
          "metadata": {}
        }
      ]
    },
    {
      "cell_type": "code",
      "metadata": {
        "id": "sdyvaUKoF7ux"
      },
      "source": [
        "import numpy as np\n",
        "\n",
        "def sigmoid(x):\n",
        "  # Numerically stable sigmoid function based on\n",
        "  # http://timvieira.github.io/blog/post/2014/02/11/exp-normalize-trick/\n",
        "\n",
        "  x = np.clip(x, -500, 500) # We get an overflow warning without this\n",
        "\n",
        "  return np.where(\n",
        "    x >= 0,\n",
        "    1 / (1 + np.exp(-x)),\n",
        "    np.exp(x) / (1 + np.exp(x))\n",
        "  )\n",
        "\n",
        "def dsigmoid(x): # Derivative of sigmoid\n",
        "  return sigmoid(x) * (1 - sigmoid(x))\n",
        "\n",
        "def softmax(x):\n",
        "  # Numerically stable softmax based on (same source as sigmoid)\n",
        "  # http://timvieira.github.io/blog/post/2014/02/11/exp-normalize-trick/\n",
        "  b = x.max()\n",
        "  y = np.exp(x - b)\n",
        "  return y / y.sum()\n",
        "\n",
        "def cross_entropy_loss(y, yHat):\n",
        "  return -np.sum(y * np.log(yHat))\n",
        "\n",
        "def integer_to_one_hot(x, max=10):\n",
        "  # x: integer to convert to one hot encoding\n",
        "  # max: the size of the one hot encoded array\n",
        "  result = np.zeros(max)\n",
        "  result[x] = 1\n",
        "  return result"
      ],
      "execution_count": 2,
      "outputs": []
    },
    {
      "cell_type": "code",
      "metadata": {
        "id": "zBeGvbu6FaM_",
        "colab": {
          "base_uri": "https://localhost:8080/"
        },
        "outputId": "07177041-33aa-40d9-c9ab-15a916e68a82"
      },
      "source": [
        "import math\n",
        "\n",
        "from numpy.random import default_rng\n",
        "\n",
        "rng = default_rng(80085)\n",
        "\n",
        "def initialize_weights(layer_sizes):\n",
        "  # function that initializes weight matrices for the given list of layer sizes\n",
        "  num_layers = len(layer_sizes)\n",
        "  weights = []\n",
        "  for i in range(1, num_layers):\n",
        "    # np.random.normal() function is used to generate a weight matrix filled with\n",
        "    # random values from a normal distribution of mean 0 and standard deviation\n",
        "    # 1/sqrt(n), where n is the number of inputs\n",
        "    weight_matrix = rng.normal(loc=0.0,\n",
        "                               scale=1.0/np.sqrt(layer_sizes[i-1]),\n",
        "                               size=(layer_sizes[i], layer_sizes[i-1]))\n",
        "    weights.append(weight_matrix)\n",
        "  return weights\n",
        "\n",
        "def initialize_biases(layer_sizes):\n",
        "  # function that initializes bias matrices for the given list of layer sizes\n",
        "  num_layers = len(layer_sizes)\n",
        "  biases = []\n",
        "  for i in range(1, num_layers):\n",
        "    # np.zeros() function is used to generate a vector of zeros\n",
        "    bias_vector = np.zeros(shape=(layer_sizes[i], 1))\n",
        "    biases.append(bias_vector)\n",
        "  return biases\n",
        "\n",
        "# we are given the following layer sizes in the question\n",
        "layer_sizes = [784, 32, 32, 10]\n",
        "\n",
        "# initialising weights and biases using the functions\n",
        "weights = initialize_weights(layer_sizes)\n",
        "biases = initialize_biases(layer_sizes)\n",
        "\n",
        "# printing the sizes of weights and bias matrices to verify\n",
        "for i, weight_matrix in enumerate(weights):\n",
        "    print(f\"Layer {i+1} weights shape:\", weight_matrix.shape)\n",
        "\n",
        "for i, bias_vector in enumerate(biases):\n",
        "    print(f\"Layer {i+1} biases shape:\", bias_vector.shape)"
      ],
      "execution_count": 3,
      "outputs": [
        {
          "output_type": "stream",
          "name": "stdout",
          "text": [
            "Layer 1 weights shape: (32, 784)\n",
            "Layer 2 weights shape: (32, 32)\n",
            "Layer 3 weights shape: (10, 32)\n",
            "Layer 1 biases shape: (32, 1)\n",
            "Layer 2 biases shape: (32, 1)\n",
            "Layer 3 biases shape: (10, 1)\n"
          ]
        }
      ]
    },
    {
      "cell_type": "code",
      "metadata": {
        "id": "cd6jGroQGdOF",
        "colab": {
          "base_uri": "https://localhost:8080/"
        },
        "outputId": "052359ba-e710-4ce2-9095-c8880a499aa1"
      },
      "source": [
        "def feed_forward_sample(sample, y):\n",
        "  # sample is a 28, 28, 1 image.\n",
        "  # We rehape it to (784, 1) using the numpy reshape(-1, 1) function\n",
        "  # We create a list - 'activations', that stores the results of neurons\n",
        "  # The first item of activations list is the input sample\n",
        "  activations = [sample.reshape(-1, 1)]\n",
        "\n",
        "  # Now, we iterate over the length of the weight list to calculate the\n",
        "  # results of neurons\n",
        "  for i in range(len(weights)):\n",
        "    # z = w.X + b\n",
        "    z = np.dot(weights[i], activations[-1]) + biases[i]\n",
        "    # a = sigmoid(z) if hidden layer, a = softmax(z) if output layer\n",
        "    if i < len(weights) - 1:\n",
        "      a = sigmoid(z)\n",
        "    else:\n",
        "      a = softmax(z)\n",
        "    activations.append(a)\n",
        "\n",
        "  # Get the one_hot_guess from the result of the last layer\n",
        "  output_activations = activations[-1]\n",
        "  # np.argmax() function gives the index of the number with the highest value\n",
        "  # which is the most likely class index\n",
        "  most_likely_class_index = np.argmax(output_activations)\n",
        "  # we get the one_hot_guess using the integer_to_one_hot helper function\n",
        "  one_hot_guess = integer_to_one_hot(most_likely_class_index)\n",
        "\n",
        "  # calculating the loss between the true label, and prediction using the\n",
        "  # cross_entropy_loss helper function\n",
        "  loss = cross_entropy_loss(integer_to_one_hot(y), output_activations.T)\n",
        "\n",
        "  return loss, one_hot_guess\n",
        "\n",
        "\n",
        "def feed_forward_dataset(x, y):\n",
        "  losses = np.empty(x.shape[0])\n",
        "  one_hot_guesses = np.empty((x.shape[0], 10))\n",
        "\n",
        "  # iterate over the size of x, and run feed_forward_sample on each datapoint\n",
        "  for i in range(x.shape[0]):\n",
        "    loss, one_hot_guess = feed_forward_sample(x[i], y[i])\n",
        "    # store the loss and one_hot_guess in a np array\n",
        "    losses[i] = loss\n",
        "    one_hot_guesses[i] = one_hot_guess.flatten()\n",
        "\n",
        "  y_one_hot = np.zeros((y.size, 10))\n",
        "  y_one_hot[np.arange(y.size), y] = 1\n",
        "\n",
        "  correct_guesses = np.sum(y_one_hot * one_hot_guesses)\n",
        "  correct_guess_percent = format((correct_guesses / y.shape[0]) * 100, \".2f\")\n",
        "\n",
        "  print(\"\\nAverage loss:\", np.round(np.average(losses), decimals=2))\n",
        "  print(\"Accuracy (# of correct guesses):\", correct_guesses, \"/\", y.shape[0], \"(\", correct_guess_percent, \"%)\")\n",
        "\n",
        "def feed_forward_training_data():\n",
        "  print(\"Feeding forward all training data...\")\n",
        "  feed_forward_dataset(x_train, y_train)\n",
        "  print(\"\")\n",
        "\n",
        "def feed_forward_test_data():\n",
        "  print(\"Feeding forward all test data...\")\n",
        "  feed_forward_dataset(x_test, y_test)\n",
        "  print(\"\")\n",
        "\n",
        "feed_forward_test_data()"
      ],
      "execution_count": 4,
      "outputs": [
        {
          "output_type": "stream",
          "name": "stdout",
          "text": [
            "Feeding forward all test data...\n",
            "\n",
            "Average loss: 2.36\n",
            "Accuracy (# of correct guesses): 994.0 / 10000 ( 9.94 %)\n",
            "\n"
          ]
        }
      ]
    },
    {
      "cell_type": "code",
      "metadata": {
        "id": "BLLEsVdcOgzi"
      },
      "source": [
        "def train_one_sample(sample, y, learning_rate=0.003):\n",
        "  # sample is a 28, 28, 1 image.\n",
        "  # We rehape it to (784, 1) using the numpy reshape(-1, 1) function\n",
        "  # We will store each layer's activations to calculate gradient\n",
        "  # The first item of activations list is the input sample\n",
        "  activations = [sample.reshape(-1, 1)]\n",
        "\n",
        "  # -- FORWARD PASS --\n",
        "  # Now, we iterate over the length of the weight list to calculate the\n",
        "  # results of neurons\n",
        "  for i in range(len(weights)):\n",
        "    # z = w.X + b\n",
        "    z = np.dot(weights[i], activations[-1]) + biases[i]\n",
        "    # a = sigmoid(z) if hidden layer, a = softmax(z) if output layer\n",
        "    if i < len(weights) - 1:\n",
        "      a = sigmoid(z)\n",
        "    else:\n",
        "      a = softmax(z)\n",
        "    activations.append(a)\n",
        "\n",
        "  # -- BACKWARD PASS --\n",
        "  # initialising empty arrays to store the weight gradients\n",
        "  dw = [np.zeros_like(w) for w in weights]\n",
        "  db = [np.zeros_like(b) for b in biases]\n",
        "\n",
        "  # delta calculation for last layer\n",
        "  # Cross-entropy derivative with respect to softmax\n",
        "  delta = activations[-1] - np.eye(len(activations[-1]))[y].reshape(-1, 1)\n",
        "  dw[-1] = np.dot(delta, activations[-2].T)\n",
        "  db[-1] = delta\n",
        "\n",
        "  # delta calculation for other layers\n",
        "  for l in range(2, len(weights) + 1):\n",
        "    delta = np.dot(weights[-l+1].T, delta) * dsigmoid(np.dot(weights[-l], activations[-l-1]) + biases[-l])\n",
        "    dw[-l] = np.dot(delta, activations[-l-1].T)\n",
        "    db[-l] = delta\n",
        "\n",
        "  # Update weights & biases based on calculated gradient\n",
        "  for i in range(len(weights)):\n",
        "    weights[i] -= learning_rate * dw[i]\n",
        "    biases[i] -= learning_rate * db[i]"
      ],
      "execution_count": 5,
      "outputs": []
    },
    {
      "cell_type": "code",
      "metadata": {
        "id": "8Ygk05FcB-rL",
        "colab": {
          "base_uri": "https://localhost:8080/"
        },
        "outputId": "4cba6a0b-98ed-4c9b-9142-d75c5f69bf96"
      },
      "source": [
        "def train_one_epoch(learning_rate=0.003):\n",
        "  print(\"Training for one epoch over the training dataset...\")\n",
        "\n",
        "  # iterating over x_train, and run train_one_sample on each datapoint\n",
        "  for i in range(x_train.shape[0]):\n",
        "    train_one_sample(x_train[i], y_train[i])\n",
        "\n",
        "  print(\"Finished training.\\n\")\n",
        "\n",
        "\n",
        "feed_forward_test_data()\n",
        "\n",
        "def test_and_train():\n",
        "  train_one_epoch()\n",
        "  feed_forward_test_data()\n",
        "\n",
        "for i in range(3):\n",
        "  test_and_train()"
      ],
      "execution_count": 6,
      "outputs": [
        {
          "output_type": "stream",
          "name": "stdout",
          "text": [
            "Feeding forward all test data...\n",
            "\n",
            "Average loss: 2.36\n",
            "Accuracy (# of correct guesses): 994.0 / 10000 ( 9.94 %)\n",
            "\n",
            "Training for one epoch over the training dataset...\n",
            "Finished training.\n",
            "\n",
            "Feeding forward all test data...\n",
            "\n",
            "Average loss: 0.97\n",
            "Accuracy (# of correct guesses): 6843.0 / 10000 ( 68.43 %)\n",
            "\n",
            "Training for one epoch over the training dataset...\n",
            "Finished training.\n",
            "\n",
            "Feeding forward all test data...\n",
            "\n",
            "Average loss: 1.05\n",
            "Accuracy (# of correct guesses): 6445.0 / 10000 ( 64.45 %)\n",
            "\n",
            "Training for one epoch over the training dataset...\n",
            "Finished training.\n",
            "\n",
            "Feeding forward all test data...\n",
            "\n",
            "Average loss: 0.94\n",
            "Accuracy (# of correct guesses): 6820.0 / 10000 ( 68.20 %)\n",
            "\n"
          ]
        }
      ]
    }
  ]
}